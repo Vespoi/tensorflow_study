{
  "nbformat": 4,
  "nbformat_minor": 0,
  "metadata": {
    "colab": {
      "provenance": [],
      "mount_file_id": "1mH6nM45vEKmEuqn7nJHYVjuHTE4Kct12",
      "authorship_tag": "ABX9TyNZ6ElorqByGN/7Vp6qn90t",
      "include_colab_link": true
    },
    "kernelspec": {
      "name": "python3",
      "display_name": "Python 3"
    },
    "language_info": {
      "name": "python"
    }
  },
  "cells": [
    {
      "cell_type": "markdown",
      "metadata": {
        "id": "view-in-github",
        "colab_type": "text"
      },
      "source": [
        "<a href=\"https://colab.research.google.com/github/Vespoi/tensorflow_study/blob/main/%EB%AA%A8%EB%8D%B8_%EB%A7%8E%EC%9D%B4_%EB%A7%8C%EB%93%A4%EA%B8%B0_3%EC%B0%A8.ipynb\" target=\"_parent\"><img src=\"https://colab.research.google.com/assets/colab-badge.svg\" alt=\"Open In Colab\"/></a>"
      ]
    },
    {
      "cell_type": "code",
      "execution_count": null,
      "metadata": {
        "id": "1z7f40d-ucHf"
      },
      "outputs": [],
      "source": [
        "import pandas as pd\n",
        "data = pd.read_csv(\"/content/drive/MyDrive/공부(개인)/인공지능/Dacon/데이콘 Basic 음악 장르 분류 AI 경진대회/데이터/train.csv\")"
      ]
    },
    {
      "cell_type": "code",
      "source": [
        "#정답 데이터 숫자로 바꾸기\n",
        "import numpy as np\n",
        "from sklearn import preprocessing\n",
        "\n",
        "y_raw = data[['genre']]\n",
        "\n",
        "label_encoder = preprocessing.LabelEncoder()\n",
        "y_train = label_encoder.fit_transform(y_raw)"
      ],
      "metadata": {
        "id": "ttqjPZeruiSk"
      },
      "execution_count": null,
      "outputs": []
    },
    {
      "cell_type": "markdown",
      "source": [
        "데이터 저장"
      ],
      "metadata": {
        "id": "fFgr_sXLui8l"
      }
    },
    {
      "cell_type": "code",
      "source": [
        "unique = data['genre'].unique()\n",
        "num_classes = len(unique)\n",
        "genre_list = data['genre'].str.replace('[^a-zA-Z]','').unique()\n",
        "\n",
        "for i, genre in enumerate(unique):\n",
        "  globals()[\"data_{}\".format(genre_list[i])] = data[data['genre'].str.contains(genre)]"
      ],
      "metadata": {
        "id": "3TnsmD4rukag"
      },
      "execution_count": null,
      "outputs": []
    },
    {
      "cell_type": "markdown",
      "source": [
        "Y데이터 무식하게 만들기"
      ],
      "metadata": {
        "id": "_mChjHp_un7W"
      }
    },
    {
      "cell_type": "code",
      "source": [
        "for i in genre_list:\n",
        "  globals()[\"Y_{}\".format(i)] = []\n",
        "for i in genre_list:\n",
        "  for j in range(len(globals()[\"data_{}\".format(i)])):\n",
        "    if i == 'DarkTrap' : globals()[\"Y_{}\".format(i)].append(0)\n",
        "    if i == 'Emo' : globals()[\"Y_{}\".format(i)].append(1)\n",
        "    if i == 'Hiphop' : globals()[\"Y_{}\".format(i)].append(2)\n",
        "    if i == 'Pop' : globals()[\"Y_{}\".format(i)].append(3)\n",
        "    if i == 'Rap' : globals()[\"Y_{}\".format(i)].append(4)\n",
        "    if i == 'RnB' : globals()[\"Y_{}\".format(i)].append(5)\n",
        "    if i == 'TrapMetal' : globals()[\"Y_{}\".format(i)].append(6)\n",
        "    if i == 'UndergroundRap' : globals()[\"Y_{}\".format(i)].append(7)\n",
        "    if i == 'dnb' : globals()[\"Y_{}\".format(i)].append(8)\n",
        "    if i == 'hardstyle' : globals()[\"Y_{}\".format(i)].append(9)\n",
        "    if i == 'psytrance' : globals()[\"Y_{}\".format(i)].append(10)\n",
        "    if i == 'techhouse' : globals()[\"Y_{}\".format(i)].append(11)\n",
        "    if i == 'techno' : globals()[\"Y_{}\".format(i)].append(12)\n",
        "    if i == 'trance' : globals()[\"Y_{}\".format(i)].append(13)\n",
        "    if i == 'trap' : globals()[\"Y_{}\".format(i)].append(14)"
      ],
      "metadata": {
        "id": "8dJLAbjTumGg"
      },
      "execution_count": null,
      "outputs": []
    },
    {
      "cell_type": "markdown",
      "source": [
        "데이터 합치기"
      ],
      "metadata": {
        "id": "T98u5vmLupvH"
      }
    },
    {
      "cell_type": "code",
      "source": [
        "#데이터 골라서 합치기\n",
        "con_data1 = pd.concat([data_Pop, data_Emo], join='inner')\n",
        "con_Y1 = Y_Pop + Y_Emo"
      ],
      "metadata": {
        "id": "g9nHdBxFuruS"
      },
      "execution_count": null,
      "outputs": []
    },
    {
      "cell_type": "code",
      "source": [
        "con_data2 = pd.concat( [data_trap, data_techno, data_hardstyle, data_techhouse, data_dnb, data_Hiphop, data_psytrance] , join='inner')\n",
        "con_Y2 = Y_trap + Y_techno + Y_hardstyle + Y_techhouse + Y_dnb + Y_Hiphop + Y_psytrance"
      ],
      "metadata": {
        "id": "doo34rwkus-X"
      },
      "execution_count": null,
      "outputs": []
    },
    {
      "cell_type": "code",
      "source": [
        "con_data3 = pd.concat( [data_TrapMetal, data_RnB] , join='inner')\n",
        "con_Y3 = Y_TrapMetal + Y_RnB"
      ],
      "metadata": {
        "id": "5SK3FOMruuCr"
      },
      "execution_count": null,
      "outputs": []
    },
    {
      "cell_type": "code",
      "source": [
        "con_data4 = pd.concat( [data_DarkTrap, data_Rap, data_UndergroundRap, data_trance]  , join='inner')\n",
        "con_Y4 = Y_DarkTrap + Y_Rap + Y_UndergroundRap + Y_trance"
      ],
      "metadata": {
        "id": "5vd6AgxTuu_d"
      },
      "execution_count": null,
      "outputs": []
    },
    {
      "cell_type": "markdown",
      "source": [
        "데이터셋 만들기"
      ],
      "metadata": {
        "id": "Zd4AYHROuwUS"
      }
    },
    {
      "cell_type": "code",
      "source": [
        "import tensorflow as tf\n",
        "\n",
        "ds1 = tf.data.Dataset.from_tensor_slices( ( dict(con_data1) , con_Y1) )\n",
        "ds2 = tf.data.Dataset.from_tensor_slices( ( dict(con_data2) , con_Y2) )\n",
        "ds3 = tf.data.Dataset.from_tensor_slices( ( dict(con_data3) , con_Y3) )\n",
        "ds4 = tf.data.Dataset.from_tensor_slices( ( dict(con_data4) , con_Y4) )"
      ],
      "metadata": {
        "id": "O2aBksuwuxdH"
      },
      "execution_count": null,
      "outputs": []
    },
    {
      "cell_type": "markdown",
      "source": [
        "feature_columns"
      ],
      "metadata": {
        "id": "kl2BCb8yuyyp"
      }
    },
    {
      "cell_type": "code",
      "source": [
        "feature_columns = []\n",
        "feature_layer_inputs = {}\n",
        "\n",
        "for header in ['danceability', 'energy', 'key', 'loudness', 'speechiness', 'acousticness', 'instrumentalness',\"liveness\",\"valence\",\"tempo\"]:\n",
        "  feature_columns.append(tf.feature_column.numeric_column(header))\n",
        "  feature_layer_inputs[header] = tf.keras.Input(shape=(num_classes,), name=header)"
      ],
      "metadata": {
        "id": "5IXIQal8u0AK"
      },
      "execution_count": null,
      "outputs": []
    },
    {
      "cell_type": "markdown",
      "source": [
        "모델 만들기"
      ],
      "metadata": {
        "id": "BZ6RnrMAu29t"
      }
    },
    {
      "cell_type": "code",
      "source": [
        "feature_layer = tf.keras.layers.DenseFeatures(feature_columns)\n",
        "feature_layer_outputs = feature_layer(feature_layer_inputs)\n",
        "dense1 = tf.keras.layers.Dense(256, activation = 'relu')(feature_layer_outputs)\n",
        "dense2= tf.keras.layers.Dense(512, activation = 'relu')(dense1)\n",
        "dense3= tf.keras.layers.Dense(256, activation = 'relu')(dense2)\n",
        "output = tf.keras.layers.Dense(num_classes, activation='softmax')(dense3)"
      ],
      "metadata": {
        "id": "4cKTxQjUu3dw"
      },
      "execution_count": null,
      "outputs": []
    },
    {
      "cell_type": "code",
      "source": [
        "model1 = tf.keras.Model(inputs=[v for v in feature_layer_inputs.values()], outputs=output)\n",
        "model2 = tf.keras.Model(inputs=[v for v in feature_layer_inputs.values()], outputs=output)\n",
        "model3 = tf.keras.Model(inputs=[v for v in feature_layer_inputs.values()], outputs=output)\n",
        "model4 = tf.keras.Model(inputs=[v for v in feature_layer_inputs.values()], outputs=output)"
      ],
      "metadata": {
        "id": "nOL0dyV4u5z8"
      },
      "execution_count": null,
      "outputs": []
    },
    {
      "cell_type": "markdown",
      "source": [
        "학습"
      ],
      "metadata": {
        "id": "SbEone9Mu8IS"
      }
    },
    {
      "cell_type": "code",
      "source": [
        "model1.compile(optimizer='Nadam', loss='sparse_categorical_crossentropy', metrics=['acc'])\n",
        "\n",
        "ds_batch1 = ds1.batch(64)\n",
        "\n",
        "model1.fit(ds_batch1, shuffle=True, epochs=150)"
      ],
      "metadata": {
        "id": "wERbVF05u-xL"
      },
      "execution_count": null,
      "outputs": []
    },
    {
      "cell_type": "code",
      "source": [
        "model2.compile(optimizer='Nadam', loss='sparse_categorical_crossentropy', metrics=['acc'])\n",
        "\n",
        "ds_batch2 = ds2.batch(64)\n",
        "\n",
        "model2.fit(ds_batch2, shuffle=True, epochs=150)"
      ],
      "metadata": {
        "id": "2ct95YZNvBwt"
      },
      "execution_count": null,
      "outputs": []
    },
    {
      "cell_type": "code",
      "source": [
        "model3.compile(optimizer='Nadam', loss='sparse_categorical_crossentropy', metrics=['acc'])\n",
        "\n",
        "ds_batch3 = ds3.batch(64)\n",
        "\n",
        "model3.fit(ds_batch3, shuffle=True, epochs=150)"
      ],
      "metadata": {
        "id": "yO-Z0RnxvC1C"
      },
      "execution_count": null,
      "outputs": []
    },
    {
      "cell_type": "code",
      "source": [
        "model4.compile(optimizer='Nadam', loss='sparse_categorical_crossentropy', metrics=['acc'])\n",
        "\n",
        "ds_batch4 = ds4.batch(64)\n",
        "\n",
        "model4.fit(ds_batch4, shuffle=True, epochs=200)"
      ],
      "metadata": {
        "id": "YMD89FOsvGzy"
      },
      "execution_count": null,
      "outputs": []
    },
    {
      "cell_type": "markdown",
      "source": [
        "모델 합치기"
      ],
      "metadata": {
        "id": "xg1P5yG2vIDu"
      }
    },
    {
      "cell_type": "code",
      "source": [
        "#학습 금지 설정\n",
        "for i in model1.layers:\n",
        "  i.tranable=False\n",
        "for i in model2.layers:\n",
        "  i.tranable=False\n",
        "for i in model3.layers:\n",
        "  i.tranable=False\n",
        "for i in model4.layers:\n",
        "  i.tranable=False"
      ],
      "metadata": {
        "id": "YG_0XsKjyZ-4"
      },
      "execution_count": null,
      "outputs": []
    },
    {
      "cell_type": "code",
      "source": [
        "model1_last_layer = model1.layers[-1].output\n",
        "model2_last_layer = model2.layers[-1].output\n",
        "model3_last_layer = model3.layers[-1].output\n",
        "model4_last_layer = model4.layers[-1] .output"
      ],
      "metadata": {
        "id": "dTdfaIFxxT1N"
      },
      "execution_count": null,
      "outputs": []
    },
    {
      "cell_type": "code",
      "source": [
        "feature_layer = tf.keras.layers.DenseFeatures(feature_columns)\n",
        "feature_layer_outputs = feature_layer(feature_layer_inputs)\n",
        "\n",
        "concat = tf.keras.layers.Concatenate()([feature_layer_outputs, model1_last_layer, model2_last_layer, model3_last_layer, model4_last_layer])\n",
        "output_merged = tf.keras.layers.Dense(num_classes, activation='softmax')(concat)"
      ],
      "metadata": {
        "id": "4DZBSyVY93cT"
      },
      "execution_count": null,
      "outputs": []
    },
    {
      "cell_type": "code",
      "source": [
        "#feature_layer = tf.keras.layers.DenseFeatures(feature_columns)\n",
        "#feature_layer_outputs = feature_layer(feature_layer_inputs)\n",
        "#layer1 = model1_last_layer(feature_layer_outputs)\n",
        "#layer2 = model2_last_layer(layer1)\n",
        "#layer3 = model3_last_layer(layer2)\n",
        "#layer4 = model4_last_layer(layer3)\n",
        "#output_merged = tf.keras.layers.Dense(num_classes, activation='softmax')(layer4)"
      ],
      "metadata": {
        "id": "1C1tKNzqyJQ9"
      },
      "execution_count": null,
      "outputs": []
    },
    {
      "cell_type": "code",
      "source": [
        "merged_model = tf.keras.Model(inputs=[v for v in feature_layer_inputs.values()], outputs=output_merged)"
      ],
      "metadata": {
        "id": "CO7UkGKPxs-f"
      },
      "execution_count": null,
      "outputs": []
    },
    {
      "cell_type": "code",
      "source": [
        "ds = tf.data.Dataset.from_tensor_slices( ( dict(data) , y_train) )"
      ],
      "metadata": {
        "id": "cFww1v0JvIiW"
      },
      "execution_count": null,
      "outputs": []
    },
    {
      "cell_type": "code",
      "source": [
        "merged_model.compile(optimizer='Nadam', loss='sparse_categorical_crossentropy', metrics=['acc'])\n",
        "\n",
        "ds_batch = ds.batch(64)\n",
        "\n",
        "merged_model.fit(ds_batch, shuffle=True, epochs=250)"
      ],
      "metadata": {
        "id": "DryohWvIvSts"
      },
      "execution_count": null,
      "outputs": []
    },
    {
      "cell_type": "markdown",
      "source": [
        "결과물 제작"
      ],
      "metadata": {
        "id": "DZHNX5GcvNWg"
      }
    },
    {
      "cell_type": "code",
      "source": [
        "from sklearn import preprocessing\n",
        "test = pd.read_csv('/content/drive/MyDrive/공부(개인)/인공지능/Dacon/데이콘 Basic 음악 장르 분류 AI 경진대회/데이터/test.csv')\n",
        "\n",
        "ds_test = tf.data.Dataset.from_tensor_slices( (dict(test)))\n",
        "\n",
        "y_raw = data[['genre']]\n",
        "label_encoder = preprocessing.LabelEncoder()\n",
        "y_train = label_encoder.fit_transform(y_raw)\n",
        "\n",
        "submission = pd.read_csv(\"/content/drive/MyDrive/공부(개인)/인공지능/Dacon/데이콘 Basic 음악 장르 분류 AI 경진대회/데이터/sample_submission.csv\")\n",
        "\n",
        "ds_test_batch = ds_test.batch(32)\n",
        "\n",
        "merged_model.evaluate(ds_test_batch)\n",
        "\n",
        "predict = merged_model.predict(ds_test_batch)\n",
        "print(len(predict))\n",
        "\n",
        "count = 0\n",
        "index = []\n",
        "\n",
        "for i in range(len(predict)):\n",
        "    results = np.argsort(predict[count])[::-1]\n",
        "    labels = label_encoder.inverse_transform(results)\n",
        "    index.append(labels[0])\n",
        "\n",
        "    count += 1"
      ],
      "metadata": {
        "id": "tpRQPaJEvNyh"
      },
      "execution_count": null,
      "outputs": []
    },
    {
      "cell_type": "code",
      "source": [
        "submission[\"genre\"] = index\n",
        "submission.to_csv(\"/content/drive/MyDrive/공부(개인)/인공지능/Dacon/데이콘 Basic 음악 장르 분류 AI 경진대회/테스트 제작/submit7.csv\", index = False)"
      ],
      "metadata": {
        "id": "IKB4VvvU-uTp"
      },
      "execution_count": null,
      "outputs": []
    }
  ]
}